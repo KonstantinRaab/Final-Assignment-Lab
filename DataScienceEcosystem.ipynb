{
 "cells": [
  {
   "cell_type": "markdown",
   "id": "ddf24756-08a6-465e-a6d3-4c3355e2c772",
   "metadata": {},
   "source": [
    "# Data Science Tools and Ecosystem "
   ]
  },
  {
   "cell_type": "markdown",
   "id": "2b949ea2-d674-44fc-b808-b6c922d2c1d1",
   "metadata": {},
   "source": [
    "### In this notebook, Data Science Tools and Ecosystem are summarized."
   ]
  },
  {
   "cell_type": "markdown",
   "id": "7f0d8dae-fb58-4769-848e-5e0de0f3b0f0",
   "metadata": {},
   "source": [
    "### Some of the popular languages that Data Scientists use are:\n",
    "\n",
    "1. **Python**\n",
    "2. **R** \n",
    "3. **SQL** "
   ]
  },
  {
   "cell_type": "markdown",
   "id": "9ae090ad-e822-4a3c-88be-cdf4e65b64d7",
   "metadata": {},
   "source": [
    "### Some of the commonly used libraries used by Data Scientists include:\n",
    "\n",
    "1. **Pandas** \n",
    "2. **NumPy** \n",
    "3. **Matplotlib** "
   ]
  },
  {
   "cell_type": "markdown",
   "id": "036e7f34-30e2-40c0-bacb-a1b21d8f1492",
   "metadata": {},
   "source": [
    "| Data Science Tools |\n",
    "|--------------------|\n",
    "| Jupyter Notebook   |\n",
    "| RStudio            |\n",
    "| Anaconda           |\n"
   ]
  },
  {
   "cell_type": "markdown",
   "id": "93ffccf8-44bb-47f3-877a-5e309b560d5f",
   "metadata": {},
   "source": [
    "### Below are a few examples of evaluating arithmetic expressions in Python\n"
   ]
  },
  {
   "cell_type": "code",
   "execution_count": 1,
   "id": "abce4d51-b805-400b-8f5f-2598ed084f88",
   "metadata": {},
   "outputs": [
    {
     "data": {
      "text/plain": [
       "17"
      ]
     },
     "execution_count": 1,
     "metadata": {},
     "output_type": "execute_result"
    }
   ],
   "source": [
    "# This is a simple arithmetic expression to multiply then add integers\n",
    "(3 * 4) + 5"
   ]
  },
  {
   "cell_type": "code",
   "execution_count": 4,
   "id": "8a2d3db5-c8a5-45ea-8e21-175c68f7b689",
   "metadata": {},
   "outputs": [
    {
     "name": "stdout",
     "output_type": "stream",
     "text": [
      "3.3333333333333335\n",
      "3\n"
     ]
    }
   ],
   "source": [
    "# This will convert 200 minutes to hours by dividing by 60\n",
    "print(200 / 60)\n",
    "print(200//60)"
   ]
  },
  {
   "cell_type": "markdown",
   "id": "8a6db81e-26c5-4e57-aeff-3777d7893a1f",
   "metadata": {},
   "source": [
    "### Data Science Tools and Ecosystem "
   ]
  },
  {
   "cell_type": "markdown",
   "id": "f5066de0-cabf-4184-90e9-9e57cdadd859",
   "metadata": {},
   "source": [
    "**Objectives:**\n",
    "\n",
    "- List popular languages for Data Science  \n",
    "- Identify commonly used Data Science libraries  \n",
    "- Create tables using Markdown  \n",
    "- Write simple arithmetic expressions in Python  \n",
    "- Convert units using Python  \n"
   ]
  },
  {
   "cell_type": "markdown",
   "id": "e51c133b-3416-4fca-bc8f-3edc0b68c84b",
   "metadata": {},
   "source": [
    "## Author\n",
    "Konstantin Raab"
   ]
  },
  {
   "cell_type": "code",
   "execution_count": null,
   "id": "4328b1f6-7085-4d65-9766-562d8db73340",
   "metadata": {},
   "outputs": [],
   "source": []
  }
 ],
 "metadata": {
  "kernelspec": {
   "display_name": "Python 3 (ipykernel)",
   "language": "python",
   "name": "python3"
  },
  "language_info": {
   "codemirror_mode": {
    "name": "ipython",
    "version": 3
   },
   "file_extension": ".py",
   "mimetype": "text/x-python",
   "name": "python",
   "nbconvert_exporter": "python",
   "pygments_lexer": "ipython3",
   "version": "3.12.8"
  }
 },
 "nbformat": 4,
 "nbformat_minor": 5
}
